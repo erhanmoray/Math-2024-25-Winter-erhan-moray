{
  "cells": [
    {
      "cell_type": "markdown",
      "metadata": {
        "id": "view-in-github",
        "colab_type": "text"
      },
      "source": [
        "<a href=\"https://colab.research.google.com/github/erhanmoray/Math-2024-25-Winter-erhan-moray/blob/main/18Functions.ipynb\" target=\"_parent\"><img src=\"https://colab.research.google.com/assets/colab-badge.svg\" alt=\"Open In Colab\"/></a>"
      ]
    },
    {
      "cell_type": "markdown",
      "source": [
        "# Functions in Mathematics\n",
        "\n",
        "In mathematics, a **function** is a rule that assigns each input exactly one output. The relationship between input and output is often written as:\n",
        "\n",
        "$$ f(x) = \\text{expression involving } x $$\n",
        "\n",
        "## Types of Functions\n",
        "### 1. **Linear Function**\n",
        "A function of the form:\n",
        "$$ f(x) = mx + b $$\n",
        "Where:\n",
        "- $m$ is the slope.\n",
        "- $b$ is the y-intercept.\n",
        "\n",
        "Example:  \n",
        "$$ f(x) = 2x + 3 $$\n",
        "\n",
        "### 2. **Quadratic Function**\n",
        "A function of the form:\n",
        "$$ f(x) = ax^2 + bx + c $$\n",
        "Where:\n",
        "- $a$, $b$, and $c$ are constants.\n",
        "\n",
        "Example:  \n",
        "$$ f(x) = x^2 - 4x + 4 $$\n",
        "\n",
        "### 3. **Exponential Function**\n",
        "A function where the variable is in the exponent:\n",
        "$$ f(x) = a^x $$\n",
        "\n",
        "Example:  \n",
        "$$ f(x) = 2^x $$\n",
        "\n",
        "### 4. **Logarithmic Function**\n",
        "The inverse of an exponential function:\n",
        "$$ f(x) = \\log_b(x) $$\n",
        "\n",
        "Example:  \n",
        "$$ f(x) = \\log_2(x) $$\n",
        "\n",
        "### 5. **Trigonometric Function**\n",
        "Functions related to angles:\n",
        "$$ f(x) = \\sin(x), \\cos(x), \\tan(x) $$\n",
        "\n",
        "Example:  \n",
        "$$ f(x) = \\sin(x) $$\n",
        "\n",
        "## Function Composition\n",
        "Given two functions $f(x)$ and $g(x)$, the composition $f(g(x))$ means applying $g(x)$ first, then applying $f$ to the result.\n",
        "\n",
        "### Example\n",
        "If $f(x) = 2x + 1$ and $g(x) = x^2$,  \n",
        "Then:\n",
        "$$ f(g(x)) = f(x^2) = 2x^2 + 1 $$\n",
        "\n",
        "## Inverse Functions\n",
        "An inverse function $f^{-1}(x)$ reverses the effect of $f(x)$. If:\n",
        "$$ f(x) = y $$\n",
        "Then:\n",
        "$$ f^{-1}(y) = x $$\n",
        "\n",
        "### Finding the Inverse\n",
        "Swap $x$ and $y$ in the equation and solve for $y$.\n",
        "\n",
        "Example:\n",
        "If $f(x) = 2x + 3$,  \n",
        "1. Replace $f(x)$ with $y$:  \n",
        "   $$ y = 2x + 3 $$\n",
        "2. Swap $x$ and $y$:  \n",
        "   $$ x = 2y + 3 $$\n",
        "3. Solve for $y$:  \n",
        "   $$ y = \\frac{x - 3}{2} $$\n",
        "   So,  \n",
        "   $$ f^{-1}(x) = \\frac{x - 3}{2} $$\n",
        "\n",
        "### Graphing Functions\n",
        "In **Geogebra** or other graphing tools, use the following steps:\n",
        "1. Plot the function $f(x)$.\n",
        "2. Plot its inverse $f^{-1}(x)$.\n",
        "3. Add the line $y = x$ to observe the reflection symmetry.\n",
        "\n",
        "Functions are fundamental concepts in mathematics, connecting inputs to outputs in a structured, predictable way.\n"
      ],
      "metadata": {
        "id": "nFAWrUGT_WGC"
      }
    },
    {
      "cell_type": "markdown",
      "source": [
        "We are given the following functions:\n",
        "\n",
        "- $ f(x) = x^2 $\n",
        "- $ g(x) = x $\n",
        "- $ h(x) = \\frac{1}{x} $\n",
        "- $ j(x) = \\sin(x) $\n",
        "\n",
        "### Finding the value of each function at $ x = 2 $:\n",
        "\n",
        "1. **For $ f(x) $:**\n",
        "   $$\n",
        "   f(2) = 2^2 = 4\n",
        "   $$\n",
        "\n",
        "2. **For $ g(x) $:**\n",
        "   $$\n",
        "   g(2) = 2\n",
        "   $$\n",
        "\n",
        "3. **For $ h(x) $:**\n",
        "   $$\n",
        "   h(2) = \\frac{1}{2} = 0.5\n",
        "   $$\n",
        "\n",
        "4. **For $ j(x) $:**\n",
        "   $$\n",
        "   j(2) = \\sin(2) \\approx 0.909\n",
        "   $$\n",
        "\n",
        "### Summary of Values:\n",
        "- $ f(2) = 4 $\n",
        "- $ g(2) = 2 $\n",
        "- $ h(2) = 0.5 $\n",
        "- $ j(2) \\approx 0.909 $\n",
        "\n",
        "These values provide insight into the behavior of the functions at $ x = 2 $.\n",
        "\n",
        "\n",
        "https://www.geogebra.org/calculator/vhwgtv72"
      ],
      "metadata": {
        "id": "k_YrWPxrA-uN"
      }
    },
    {
      "cell_type": "markdown",
      "source": [
        "We are given the following functions:\n",
        "\n",
        "- $ f(x) = 3x - 1 $\n",
        "- $ g(x) = x $\n",
        "\n",
        "Now, let's calculate the following compositions of functions:\n",
        "\n",
        "1. **$ f(g(x)) $:**\n",
        "   Since $ g(x) = x $, we can substitute this into $ f(x) $:\n",
        "   $$\n",
        "   f(g(x)) = f(x) = 3x - 1\n",
        "   $$\n",
        "\n",
        "2. **$ g(f(x)) $:**\n",
        "   Since $ f(x) = 3x - 1 $, we substitute this into $ g(x) $:\n",
        "   $$\n",
        "   g(f(x)) = g(3x - 1) = 3x - 1\n",
        "   $$\n",
        "\n",
        "3. **$ f(f(x)) $:**\n",
        "   We substitute $ f(x) = 3x - 1 $ into itself:\n",
        "   $$\n",
        "   f(f(x)) = f(3x - 1) = 3(3x - 1) - 1 = 9x - 3 - 1 = 9x - 4\n",
        "   $$\n",
        "\n",
        "4. **$ g(g(x)) $:**\n",
        "   Since $ g(x) = x $, we have:\n",
        "   $$\n",
        "   g(g(x)) = g(x) = x\n",
        "   $$\n",
        "\n",
        "### Summary of Results:\n",
        "- $ f(g(x)) = 3x - 1 $\n",
        "- $ g(f(x)) = 3x - 1 $\n",
        "- $ f(f(x)) = 9x - 4 $\n",
        "- $ g(g(x)) = x $\n",
        "\n",
        " https://www.geogebra.org/calculator/vhwgtv72"
      ],
      "metadata": {
        "id": "BjN1Rw-tC4tD"
      }
    },
    {
      "cell_type": "markdown",
      "source": [
        "Given functions:\n",
        "- $ f(x) = e^x $\n",
        "- $ g(x) = \\ln(x) $\n",
        "\n",
        "### Compositions:\n",
        "1. $ f(g(x)) = e^{\\ln(x)} $\n",
        "2. $ g(f(x)) = \\ln(e^x) $\n",
        "\n",
        "### Check the Compositions:\n",
        "\n",
        "- $ f(g(x)) = e^{\\ln(x)} = x $ (since $ e^{\\ln(x)} = x $ for $ x > 0 $)\n",
        "- $ g(f(x)) = \\ln(e^x) = x $ (since $ \\ln(e^x) = x $ for all real $ x $)\n",
        "\n",
        "### Observation:\n",
        "- Both compositions simplify to $ x $, meaning $ f(g(x)) = g(f(x)) = x $. This is a property of the exponential and logarithmic functions.\n"
      ],
      "metadata": {
        "id": "8wZHeOZjDnkr"
      }
    },
    {
      "cell_type": "markdown",
      "source": [
        "Given function:\n",
        "- $ f = \\{(1, 7), (2, 9), (3, 11)\\} $\n",
        "\n",
        "To find the inverse function $ f^{-1} $, we swap the x and y coordinates of each point:\n",
        "- $ f^{-1} = \\{(7, 1), (9, 2), (11, 3)\\} $\n",
        "\n",
        "Thus, the inverse function $ f^{-1} $ is:\n",
        "- $ f^{-1} = \\{(7, 1), (9, 2), (11, 3)\\} $\n"
      ],
      "metadata": {
        "id": "sU8XxEOLECsw"
      }
    },
    {
      "cell_type": "markdown",
      "source": [
        "Given function:\n",
        "- $ f = \\{(1, 7), (2, 7), (3, 11)\\} $\n",
        "\n",
        "To find the inverse function $ f^{-1} $, we swap the x and y coordinates of each point:\n",
        "- $ f^{-1} = \\{(7, 1), (7, 2), (11, 3)\\} $\n",
        "\n",
        "Thus, the inverse function $ f^{-1} $ is:\n",
        "- $ f^{-1} = \\{(7, 1), (7, 2), (11, 3)\\} $\n"
      ],
      "metadata": {
        "id": "gKDRzqOgEKoR"
      }
    },
    {
      "cell_type": "markdown",
      "source": [
        "Given function:\n",
        "- $ f(x) = x - 1 $\n",
        "\n",
        "To find the inverse function $ f^{-1}(x) $, we follow these steps:\n",
        "1. Replace $ f(x) $ with $ y $:\n",
        "   - $ y = x - 1 $\n",
        "\n",
        "2. Solve for $ x $ in terms of $ y $:\n",
        "   - $ x = y + 1 $\n",
        "\n",
        "3. Replace $ y $ with $ x $ to get the inverse function:\n",
        "   - $ f^{-1}(x) = x + 1 $\n",
        "\n",
        "Thus, the inverse function is:\n",
        "- $ f^{-1}(x) = x + 1 $\n",
        "\n",
        "\n",
        "https://www.geogebra.org/calculator/vhwgtv72"
      ],
      "metadata": {
        "id": "17pXlaOaET4k"
      }
    }
  ],
  "metadata": {
    "colab": {
      "name": "Colaboratory'ye Hoş Geldiniz",
      "toc_visible": true,
      "provenance": [],
      "include_colab_link": true
    },
    "kernelspec": {
      "display_name": "Python 3",
      "name": "python3"
    }
  },
  "nbformat": 4,
  "nbformat_minor": 0
}