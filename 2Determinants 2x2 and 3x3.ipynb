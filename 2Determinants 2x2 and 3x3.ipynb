{
  "cells": [
    {
      "cell_type": "markdown",
      "metadata": {
        "id": "view-in-github",
        "colab_type": "text"
      },
      "source": [
        "<a href=\"https://colab.research.google.com/github/erhanmoray/Math-2024-25-Winter-erhan-moray/blob/main/2Determinants%202x2%20and%203x3.ipynb\" target=\"_parent\"><img src=\"https://colab.research.google.com/assets/colab-badge.svg\" alt=\"Open In Colab\"/></a>"
      ]
    },
    {
      "cell_type": "markdown",
      "source": [
        "# Determinants of 2x2 and 3x3 Matrices\n",
        "\n",
        "### 2x2 Matrices\n",
        "\n",
        "1. Matrix $A$:\n",
        "   $A = \\begin{bmatrix} 2 & 3 \\\\ 1 & 4 \\end{bmatrix}$\n",
        "   \n",
        "   Determinant of $A$:\n",
        "   $\\det(A) = (2 \\times 4) - (3 \\times 1) = 8 - 3 = 5$\n",
        "\n",
        "2. Matrix $B$:\n",
        "   $B = \\begin{bmatrix} 5 & 6 \\\\ 7 & 8 \\end{bmatrix}$\n",
        "   \n",
        "   Determinant of $B$:\n",
        "   $\\det(B) = (5 \\times 8) - (6 \\times 7) = 40 - 42 = -2$\n",
        "\n",
        "3. Matrix $C$:\n",
        "   $C = \\begin{bmatrix} -1 & 2 \\\\ 3 & 0 \\end{bmatrix}$\n",
        "   \n",
        "   Determinant of $C$:\n",
        "   $\\det(C) = (-1 \\times 0) - (2 \\times 3) = 0 - 6 = -6$\n",
        "\n",
        "### 3x3 Matrices\n",
        "\n",
        "1. Matrix $D$:\n",
        "   $D = \\begin{bmatrix} 1 & 0 & 2 \\\\ -1 & 3 & 1 \\\\ 2 & 4 & -2 \\end{bmatrix}$\n",
        "   \n",
        "   Determinant of $D$:\n",
        "   $\\det(D) = 1 \\left( 3 \\times -2 - 1 \\times 4 \\right) - 0 \\left( -1 \\times -2 - 1 \\times 2 \\right) + 2 \\left( -1 \\times 4 - 3 \\times 2 \\right)$  \n",
        "   $\\det(D) = 1(-6 - 4) + 2(-4 - 6) = -10 - 20 = -30$\n",
        "\n",
        "2. Matrix $E$:\n",
        "   $E = \\begin{bmatrix} 3 & 1 & -1 \\\\ 0 & 2 & 4 \\\\ 5 & 3 & 2 \\end{bmatrix}$\n",
        "   \n",
        "   Determinant of $E$:\n",
        "   $\\det(E) = 3 \\left( 2 \\times 2 - 4 \\times 3 \\right) - 1 \\left( 0 \\times 2 - 4 \\times 5 \\right) + (-1) \\left( 0 \\times 3 - 2 \\times 5 \\right)$  \n",
        "   $\\det(E) = 3(4 - 12) - 1(0 - 20) - 1(0 - 10) = 3(-8) + 20 + 10 = -24 + 30 = 6$\n",
        "\n",
        "3. Matrix $F$:\n",
        "   $F = \\begin{bmatrix} 2 & -3 & 1 \\\\ 1 & 4 & -2 \\\\ 1 & 5 & 3 \\end{bmatrix}$\n",
        "   \n",
        "   Determinant of $F$:\n",
        "   $\\det(F) = 2 \\left( 4 \\times 3 - (-2) \\times 5 \\right) - (-3) \\left( 1 \\times 3 - (-2) \\times 1 \\right) + 1 \\left( 1 \\times 5 - 4 \\times 1 \\right)$  \n",
        "   $\\det(F) = 2(12 + 10) + 3(3 + 2) + 1(5 - 4) = 2(22) + 3(5) + 1 = 44 + 15 + 1 = 60$\n",
        "\n",
        "### Summary of Determinants\n",
        "- $\\det(A) = 5$\n",
        "- $\\det(B) = -2$\n",
        "- $\\det(C) = -6$\n",
        "- $\\det(D) = -30$\n",
        "- $\\det(E) = 6$\n",
        "- $\\det(F) = 60$\n"
      ],
      "metadata": {
        "id": "lYg4xfD6VU6s"
      }
    },
    {
      "cell_type": "markdown",
      "source": [
        "# Determinants of 2x2 and 3x3 Matrices\n",
        "\n",
        "### 2x2 Matrices\n",
        "\n",
        "1. Matrix $A$:\n",
        "   $A = \\begin{bmatrix} 2 & 3 \\\\ 1 & 4 \\end{bmatrix}$\n",
        "   \n",
        "   Determinant of $A$:\n",
        "   $\\det(A) = (2 \\times 4) - (3 \\times 1) = 8 - 3 = 5$\n",
        "\n",
        "2. Matrix $B$:\n",
        "   $B = \\begin{bmatrix} 5 & 6 \\\\ 7 & 8 \\end{bmatrix}$\n",
        "   \n",
        "   Determinant of $B$:\n",
        "   $\\det(B) = (5 \\times 8) - (6 \\times 7) = 40 - 42 = -2$\n",
        "\n",
        "3. Matrix $C$:\n",
        "   $C = \\begin{bmatrix} -1 & 2 \\\\ 3 & 0 \\end{bmatrix}$\n",
        "   \n",
        "   Determinant of $C$:\n",
        "   $\\det(C) = (-1 \\times 0) - (2 \\times 3) = 0 - 6 = -6$\n",
        "\n",
        "### 3x3 Matrices\n",
        "\n",
        "1. Matrix $D$:\n",
        "   $D = \\begin{bmatrix} 1 & 0 & 2 \\\\ -1 & 3 & 1 \\\\ 2 & 4 & -2 \\end{bmatrix}$\n",
        "   \n",
        "   Determinant of $D$:\n",
        "   $\\det(D) = 1 \\left( 3 \\times -2 - 1 \\times 4 \\right) - 0 \\left( -1 \\times -2 - 1 \\times 2 \\right) + 2 \\left( -1 \\times 4 - 3 \\times 2 \\right)$  \n",
        "   $\\det(D) = 1(-6 - 4) + 2(-4 - 6) = -10 - 20 = -30$\n",
        "\n",
        "2. Matrix $E$:\n",
        "   $E = \\begin{bmatrix} 3 & 1 & -1 \\\\ 0 & 2 & 4 \\\\ 5 & 3 & 2 \\end{bmatrix}$\n",
        "   \n",
        "   Determinant of $E$:\n",
        "   $\\det(E) = 3 \\left( 2 \\times 2 - 4 \\times 3 \\right) - 1 \\left( 0 \\times 2 - 4 \\times 5 \\right) + (-1) \\left( 0 \\times 3 - 2 \\times 5 \\right)$  \n",
        "   $\\det(E) = 3(4 - 12) - 1(0 - 20) - 1(0 - 10) = 3(-8) + 20 + 10 = -24 + 30 = 6$\n",
        "\n",
        "3. Matrix $F$:\n",
        "   $F = \\begin{bmatrix} 2 & -3 & 1 \\\\ 1 & 4 & -2 \\\\ 1 & 5 & 3 \\end{bmatrix}$\n",
        "   \n",
        "   Determinant of $F$:\n",
        "   $\\det(F) = 2 \\left( 4 \\times 3 - (-2) \\times 5 \\right) - (-3) \\left( 1 \\times 3 - (-2) \\times 1 \\right) + 1 \\left( 1 \\times 5 - 4 \\times 1 \\right)$  \n",
        "   $\\det(F) = 2(12 + 10) + 3(3 + 2) + 1(5 - 4) = 2(22) + 3(5) + 1 = 44 + 15 + 1 = 60$\n",
        "\n",
        "### Summary of Determinants\n",
        "- $\\det(A) = 5$\n",
        "- $\\det(B) = -2$\n",
        "- $\\det(C) = -6$\n",
        "- $\\det(D) = -30$\n",
        "- $\\det(E) = 6$\n",
        "- $\\det(F) = 60$\n"
      ],
      "metadata": {
        "id": "gCzhd4IOUq0i"
      }
    },
    {
      "cell_type": "markdown",
      "source": [],
      "metadata": {
        "id": "uIEn3dIPVnz1"
      }
    }
  ],
  "metadata": {
    "colab": {
      "name": "Colaboratory'ye Hoş Geldiniz",
      "toc_visible": true,
      "provenance": [],
      "include_colab_link": true
    },
    "kernelspec": {
      "display_name": "Python 3",
      "name": "python3"
    }
  },
  "nbformat": 4,
  "nbformat_minor": 0
}