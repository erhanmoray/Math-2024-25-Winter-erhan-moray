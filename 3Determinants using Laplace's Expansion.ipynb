{
  "cells": [
    {
      "cell_type": "markdown",
      "metadata": {
        "id": "view-in-github",
        "colab_type": "text"
      },
      "source": [
        "<a href=\"https://colab.research.google.com/github/erhanmoray/Math-2024-25-Winter-erhan-moray/blob/main/3Determinants%20using%20Laplace's%20Expansion.ipynb\" target=\"_parent\"><img src=\"https://colab.research.google.com/assets/colab-badge.svg\" alt=\"Open In Colab\"/></a>"
      ]
    },
    {
      "cell_type": "markdown",
      "source": [
        "# Determinants using Laplace's Expansion\n",
        "\n",
        "Laplace's expansion (or cofactor expansion) allows calculating the determinant of a square matrix by expanding along any row or column.\n",
        "\n",
        "## Steps for Laplace's Expansion\n",
        "1. Choose a row or column for expansion (usually one with the most zeros to simplify the calculation).\n",
        "2. For each element in the row or column, compute its cofactor:\n",
        "   - Cofactor of element $a_{ij}$ is $C_{ij} = (-1)^{i+j} \\det(M_{ij})$, where $M_{ij}$ is the submatrix obtained by removing the $i$-th row and $j$-th column.\n",
        "3. Sum the products of the elements and their cofactors:\n",
        "   $$\n",
        "   \\det(A) = \\sum_{j=1}^{n} a_{ij} C_{ij}\n",
        "   $$\n",
        "   or\n",
        "   $$\n",
        "   \\det(A) = \\sum_{i=1}^{n} a_{ij} C_{ij}\n",
        "   $$\n",
        "\n",
        "---\n",
        "\n",
        "## Example: 3x3 Matrix\n",
        "$$\n",
        "A = \\begin{bmatrix}\n",
        "a & b & c \\\\\n",
        "d & e & f \\\\\n",
        "g & h & i\n",
        "\\end{bmatrix}\n",
        "$$\n",
        "\n",
        "Choose the first row for expansion:\n",
        "$$\n",
        "\\det(A) = a \\det\\begin{bmatrix} e & f \\\\ h & i \\end{bmatrix} - b \\det\\begin{bmatrix} d & f \\\\ g & i \\end{bmatrix} + c \\det\\begin{bmatrix} d & e \\\\ g & h \\end{bmatrix}\n",
        "$$\n",
        "\n",
        "---\n",
        "\n",
        "## Example Calculation\n",
        "### Matrix:\n",
        "$$\n",
        "B = \\begin{bmatrix}\n",
        "2 & 3 & 1 \\\\\n",
        "1 & 4 & 0 \\\\\n",
        "3 & 2 & 1\n",
        "\\end{bmatrix}\n",
        "$$\n",
        "\n",
        "Expanding along the first row:\n",
        "$$\n",
        "\\det(B) = 2 \\det\\begin{bmatrix} 4 & 0 \\\\ 2 & 1 \\end{bmatrix} - 3 \\det\\begin{bmatrix} 1 & 0 \\\\ 3 & 1 \\end{bmatrix} + 1 \\det\\begin{bmatrix} 1 & 4 \\\\ 3 & 2 \\end{bmatrix}\n",
        "$$\n",
        "\n",
        "Continue by calculating the 2x2 determinants:\n",
        "$$\n",
        "\\det\\begin{bmatrix} 4 & 0 \\\\ 2 & 1 \\end{bmatrix} = (4)(1) - (0)(2) = 4\n",
        "$$\n",
        "$$\n",
        "\\det\\begin{bmatrix} 1 & 0 \\\\ 3 & 1 \\end{bmatrix} = (1)(1) - (0)(3) = 1\n",
        "$$\n",
        "$$\n",
        "\\det\\begin{bmatrix} 1 & 4 \\\\ 3 & 2 \\end{bmatrix} = (1)(2) - (4)(3) = 2 - 12 = -10\n",
        "$$\n",
        "\n",
        "Substitute back into the expansion:\n",
        "$$\n",
        "\\det(B) = 2(4) - 3(1) + 1(-10) = 8 - 3 - 10 = -5\n",
        "$$\n",
        "\n",
        "Thus, $\\det(B) = -5$.\n"
      ],
      "metadata": {
        "id": "g4S9VWEWWx-w"
      }
    },
    {
      "cell_type": "markdown",
      "source": [
        "# Determinants of Matrices\n",
        "\n",
        "### Matrix A\n",
        "$A = \\begin{bmatrix} 2 & 3 & 1 \\\\ 1 & 4 & 0 \\\\ 3 & 2 & 1 \\end{bmatrix}$\n",
        "\n",
        "#### Step 1: Apply the determinant formula for a 3x3 matrix  \n",
        "$\\det(A) = 2 \\cdot \\det\\begin{bmatrix} 4 & 0 \\\\ 2 & 1 \\end{bmatrix} - 3 \\cdot \\det\\begin{bmatrix} 1 & 0 \\\\ 3 & 1 \\end{bmatrix} + 1 \\cdot \\det\\begin{bmatrix} 1 & 4 \\\\ 3 & 2 \\end{bmatrix}$\n",
        "\n",
        "#### Step 2: Compute the 2x2 determinants  \n",
        "$\\det\\begin{bmatrix} 4 & 0 \\\\ 2 & 1 \\end{bmatrix} = 4 \\times 1 - 0 \\times 2 = 4$  \n",
        "$\\det\\begin{bmatrix} 1 & 0 \\\\ 3 & 1 \\end{bmatrix} = 1 \\times 1 - 0 \\times 3 = 1$  \n",
        "$\\det\\begin{bmatrix} 1 & 4 \\\\ 3 & 2 \\end{bmatrix} = 1 \\times 2 - 4 \\times 3 = 2 - 12 = -10$\n",
        "\n",
        "#### Step 3: Substitute the results  \n",
        "$\\det(A) = 2 \\cdot 4 - 3 \\cdot 1 + 1 \\cdot (-10)$  \n",
        "$\\det(A) = 8 - 3 - 10 = -5$\n",
        "\n",
        "### Matrix B\n",
        "$B = \\begin{bmatrix} 2 & 3 & 1 \\\\ 1 & 4 & 0 \\\\ 3 & 2 & 0 \\end{bmatrix}$\n",
        "\n",
        "#### Step 1: Apply the determinant formula  \n",
        "$\\det(B) = 2 \\cdot \\det\\begin{bmatrix} 4 & 0 \\\\ 2 & 0 \\end{bmatrix} - 3 \\cdot \\det\\begin{bmatrix} 1 & 0 \\\\ 3 & 0 \\end{bmatrix} + 1 \\cdot \\det\\begin{bmatrix} 1 & 4 \\\\ 3 & 2 \\end{bmatrix}$\n",
        "\n",
        "#### Step 2: Compute the 2x2 determinants  \n",
        "$\\det\\begin{bmatrix} 4 & 0 \\\\ 2 & 0 \\end{bmatrix} = 4 \\times 0 - 0 \\times 2 = 0$  \n",
        "$\\det\\begin{bmatrix} 1 & 0 \\\\ 3 & 0 \\end{bmatrix} = 1 \\times 0 - 0 \\times 3 = 0$  \n",
        "$\\det\\begin{bmatrix} 1 & 4 \\\\ 3 & 2 \\end{bmatrix} = 1 \\times 2 - 4 \\times 3 = 2 - 12 = -10$\n",
        "\n",
        "#### Step 3: Substitute the results  \n",
        "$\\det(B) = 2 \\cdot 0 - 3 \\cdot 0 + 1 \\cdot (-10)$  \n",
        "$\\det(B) = -10$\n",
        "\n",
        "### Matrix C (4x4)\n",
        "$C = \\begin{bmatrix} 2 & 3 & 1 & 4 \\\\ 1 & 0 & 6 & 3 \\\\ 2 & 1 & 5 & 2 \\\\ 0 & 0 & 4 & 0 \\end{bmatrix}$\n",
        "\n",
        "Apply cofactor expansion along the first row for solving $\\det(C)$. Repeat similarly for Matrix D.\n"
      ],
      "metadata": {
        "id": "fEeK4n2_Wtp4"
      }
    }
  ],
  "metadata": {
    "colab": {
      "name": "Colaboratory'ye Hoş Geldiniz",
      "toc_visible": true,
      "provenance": [],
      "include_colab_link": true
    },
    "kernelspec": {
      "display_name": "Python 3",
      "name": "python3"
    }
  },
  "nbformat": 4,
  "nbformat_minor": 0
}